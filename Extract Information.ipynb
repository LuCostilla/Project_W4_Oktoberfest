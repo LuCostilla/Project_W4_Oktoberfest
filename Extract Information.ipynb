{
 "cells": [
  {
   "cell_type": "code",
   "execution_count": 1,
   "id": "ef42d4fe",
   "metadata": {},
   "outputs": [],
   "source": [
    "import pandas as pd\n",
    "import gzip\n",
    "import csv\n",
    "import json\n",
    "import pandas as pd\n",
    "from zipfile import ZipFile\n",
    "import requests as req\n",
    "from bs4 import BeautifulSoup as bs\n",
    "import pandas as pd\n",
    "from pprint import pprint\n",
    "from lxml import html\n",
    "from lxml.html import fromstring\n",
    "import urllib.request\n",
    "from urllib.request import urlopen\n",
    "import random\n",
    "import re\n",
    "import scrapy"
   ]
  },
  {
   "cell_type": "code",
   "execution_count": null,
   "id": "7c90be58",
   "metadata": {},
   "outputs": [],
   "source": [
    "#import csv con pandas\n",
    "\n",
    "#df = pd.read_csv (r'Path where the CSV file is stored\\Filename.csv')\n"
   ]
  },
  {
   "cell_type": "code",
   "execution_count": null,
   "id": "48671f65",
   "metadata": {},
   "outputs": [],
   "source": [
    "#The Oktoberfest in Munich is the biggest Volksfest in the world. It takes place since 1810 and attracts \n",
    "#every year about six million guests.\n",
    "\n",
    "\n",
    "#Every four years (every three years until 1996) the Bavarian Central Agriculture Fest takes \n",
    "#place in parallel, consequently reducing the available seats.\n"
   ]
  },
  {
   "cell_type": "code",
   "execution_count": null,
   "id": "bef48042",
   "metadata": {},
   "outputs": [],
   "source": [
    "'''Columns:\n",
    "id\n",
    "year\n",
    "guests total (millions)\n",
    "guests daily (thousands)\n",
    "beer price (1 litre)\n",
    "beer consumption (hectolitres)\n",
    "roasted chicken (hendl) price\n",
    "roasted chicken consumption'''"
   ]
  },
  {
   "cell_type": "code",
   "execution_count": null,
   "id": "a4b86464",
   "metadata": {},
   "outputs": [],
   "source": [
    "'''# importing required modules\n",
    "from zipfile import ZipFile\n",
    "  \n",
    "# specifying the zip file name\n",
    "file_name = \"my_python_files.zip\"\n",
    "  \n",
    "# opening the zip file in READ mode\n",
    "with ZipFile(file_name, 'r') as zip:\n",
    "    # printing all the contents of the zip file\n",
    "    zip.printdir()\n",
    "  \n",
    "    # extracting all the files\n",
    "    print('Extracting all the files now...')\n",
    "    zip.extractall()\n",
    "    print('Done!')'''\n",
    "\n",
    "#https://www.geeksforgeeks.org/working-zip-files-python/"
   ]
  },
  {
   "cell_type": "code",
   "execution_count": null,
   "id": "53039dba",
   "metadata": {},
   "outputs": [],
   "source": [
    "#read CSV OKTOBERFEST Beerconsumption  --> https://opendata.muenchen.de/dataset/oktoberfest\n"
   ]
  },
  {
   "cell_type": "code",
   "execution_count": 11,
   "id": "ba83ebd9",
   "metadata": {},
   "outputs": [
    {
     "data": {
      "text/plain": [
       "'/Users/jeffworker/Documents/GitHub/Bootcamp/Project_Week_4/Raw Data/archivo.zip'"
      ]
     },
     "execution_count": 11,
     "metadata": {},
     "output_type": "execute_result"
    }
   ],
   "source": [
    "file_name ='/Users/jeffworker/Documents/GitHub/Bootcamp/Project_Week_4/Raw Data/archivo.zip'\n",
    "file_name"
   ]
  },
  {
   "cell_type": "code",
   "execution_count": 12,
   "id": "dcd57885",
   "metadata": {},
   "outputs": [
    {
     "name": "stdout",
     "output_type": "stream",
     "text": [
      "File Name                                             Modified             Size\n",
      "oktoberfest.csv                                2022-07-31 12:11:04         1528\n"
     ]
    }
   ],
   "source": [
    "with ZipFile(file_name, 'r') as zip:\n",
    "    zip.printdir()\n",
    "    "
   ]
  },
  {
   "cell_type": "code",
   "execution_count": 23,
   "id": "d18df872",
   "metadata": {},
   "outputs": [
    {
     "data": {
      "text/html": [
       "<div>\n",
       "<style scoped>\n",
       "    .dataframe tbody tr th:only-of-type {\n",
       "        vertical-align: middle;\n",
       "    }\n",
       "\n",
       "    .dataframe tbody tr th {\n",
       "        vertical-align: top;\n",
       "    }\n",
       "\n",
       "    .dataframe thead th {\n",
       "        text-align: right;\n",
       "    }\n",
       "</style>\n",
       "<table border=\"1\" class=\"dataframe\">\n",
       "  <thead>\n",
       "    <tr style=\"text-align: right;\">\n",
       "      <th></th>\n",
       "      <th>year</th>\n",
       "      <th>duration</th>\n",
       "      <th>guests_total</th>\n",
       "      <th>guests_daily</th>\n",
       "      <th>beer_price</th>\n",
       "      <th>beer_consumption</th>\n",
       "      <th>roast_chicken_price</th>\n",
       "      <th>roast_chicken_consumption</th>\n",
       "    </tr>\n",
       "  </thead>\n",
       "  <tbody>\n",
       "    <tr>\n",
       "      <th>30</th>\n",
       "      <td>2015</td>\n",
       "      <td>16</td>\n",
       "      <td>5.9</td>\n",
       "      <td>369</td>\n",
       "      <td>10.27</td>\n",
       "      <td>75134</td>\n",
       "      <td>10.75</td>\n",
       "      <td>503510</td>\n",
       "    </tr>\n",
       "    <tr>\n",
       "      <th>31</th>\n",
       "      <td>2016</td>\n",
       "      <td>17</td>\n",
       "      <td>5.6</td>\n",
       "      <td>329</td>\n",
       "      <td>10.57</td>\n",
       "      <td>66231</td>\n",
       "      <td>11.00</td>\n",
       "      <td>366876</td>\n",
       "    </tr>\n",
       "    <tr>\n",
       "      <th>32</th>\n",
       "      <td>2017</td>\n",
       "      <td>18</td>\n",
       "      <td>6.2</td>\n",
       "      <td>344</td>\n",
       "      <td>10.87</td>\n",
       "      <td>77836</td>\n",
       "      <td>11.41</td>\n",
       "      <td>466747</td>\n",
       "    </tr>\n",
       "    <tr>\n",
       "      <th>33</th>\n",
       "      <td>2018</td>\n",
       "      <td>16</td>\n",
       "      <td>6.3</td>\n",
       "      <td>394</td>\n",
       "      <td>11.30</td>\n",
       "      <td>78705</td>\n",
       "      <td>11.67</td>\n",
       "      <td>436492</td>\n",
       "    </tr>\n",
       "    <tr>\n",
       "      <th>34</th>\n",
       "      <td>2019</td>\n",
       "      <td>16</td>\n",
       "      <td>6.3</td>\n",
       "      <td>394</td>\n",
       "      <td>11.71</td>\n",
       "      <td>78502</td>\n",
       "      <td>12.15</td>\n",
       "      <td>434998</td>\n",
       "    </tr>\n",
       "  </tbody>\n",
       "</table>\n",
       "</div>"
      ],
      "text/plain": [
       "    year  duration  guests_total  guests_daily  beer_price  beer_consumption  \\\n",
       "30  2015        16           5.9           369       10.27             75134   \n",
       "31  2016        17           5.6           329       10.57             66231   \n",
       "32  2017        18           6.2           344       10.87             77836   \n",
       "33  2018        16           6.3           394       11.30             78705   \n",
       "34  2019        16           6.3           394       11.71             78502   \n",
       "\n",
       "    roast_chicken_price  roast_chicken_consumption  \n",
       "30                10.75                     503510  \n",
       "31                11.00                     366876  \n",
       "32                11.41                     466747  \n",
       "33                11.67                     436492  \n",
       "34                12.15                     434998  "
      ]
     },
     "execution_count": 23,
     "metadata": {},
     "output_type": "execute_result"
    }
   ],
   "source": [
    "df_oktoberfest = pd.read_csv (r'/Users/jeffworker/Documents/GitHub/Bootcamp/Project_Week_4/Raw Data/oktoberfest.csv')\n",
    "df_oktoberfest.tail()"
   ]
  },
  {
   "cell_type": "code",
   "execution_count": null,
   "id": "05d698b7",
   "metadata": {},
   "outputs": [],
   "source": []
  },
  {
   "cell_type": "code",
   "execution_count": null,
   "id": "66906546",
   "metadata": {},
   "outputs": [],
   "source": []
  },
  {
   "cell_type": "code",
   "execution_count": null,
   "id": "f9a23096",
   "metadata": {},
   "outputs": [],
   "source": []
  },
  {
   "cell_type": "code",
   "execution_count": null,
   "id": "b20afbdd",
   "metadata": {},
   "outputs": [],
   "source": []
  },
  {
   "cell_type": "code",
   "execution_count": null,
   "id": "f335f570",
   "metadata": {},
   "outputs": [],
   "source": []
  },
  {
   "cell_type": "code",
   "execution_count": null,
   "id": "05ec1e9c",
   "metadata": {},
   "outputs": [],
   "source": []
  },
  {
   "cell_type": "code",
   "execution_count": null,
   "id": "c678d0e1",
   "metadata": {},
   "outputs": [],
   "source": []
  }
 ],
 "metadata": {
  "kernelspec": {
   "display_name": "Python 3 (ipykernel)",
   "language": "python",
   "name": "python3"
  },
  "language_info": {
   "codemirror_mode": {
    "name": "ipython",
    "version": 3
   },
   "file_extension": ".py",
   "mimetype": "text/x-python",
   "name": "python",
   "nbconvert_exporter": "python",
   "pygments_lexer": "ipython3",
   "version": "3.9.12"
  }
 },
 "nbformat": 4,
 "nbformat_minor": 5
}
