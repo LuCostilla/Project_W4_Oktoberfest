{
 "cells": [
  {
   "cell_type": "code",
   "execution_count": 113,
   "id": "98eb7424",
   "metadata": {},
   "outputs": [],
   "source": [
    "import pandas as pd\n",
    "import gzip\n",
    "import csv\n",
    "import json\n",
    "import pandas as pd\n",
    "from zipfile import ZipFile\n",
    "import requests as req\n",
    "from bs4 import BeautifulSoup as bs\n",
    "import pandas as pd\n",
    "from pprint import pprint\n",
    "from lxml import html\n",
    "from lxml.html import fromstring\n",
    "import urllib.request\n",
    "from urllib.request import urlopen\n",
    "import random\n",
    "import re\n",
    "import scrapy\n",
    "import pandas as pd\n",
    "from selenium.webdriver.chrome.options import Options\n",
    "from webdriver_manager.chrome import ChromeDriverManager\n",
    "from selenium import webdriver"
   ]
  },
  {
   "cell_type": "code",
   "execution_count": 114,
   "id": "75425496",
   "metadata": {},
   "outputs": [],
   "source": [
    "PATH=ChromeDriverManager().install()"
   ]
  },
  {
   "cell_type": "code",
   "execution_count": 115,
   "id": "a9f51133",
   "metadata": {},
   "outputs": [],
   "source": [
    "from selenium.webdriver.common.by import By"
   ]
  },
  {
   "cell_type": "code",
   "execution_count": 118,
   "id": "119386b9",
   "metadata": {},
   "outputs": [],
   "source": [
    "url= 'https://es.wikipedia.org/wiki/Anexo:Ataques_terroristas'"
   ]
  },
  {
   "cell_type": "code",
   "execution_count": 119,
   "id": "0d8ce92a",
   "metadata": {},
   "outputs": [
    {
     "name": "stderr",
     "output_type": "stream",
     "text": [
      "/var/folders/bl/k3sl29m953728l636_vh_6dw0000gn/T/ipykernel_22401/2317264644.py:1: DeprecationWarning: executable_path has been deprecated, please pass in a Service object\n",
      "  driver=webdriver.Chrome(PATH)\n"
     ]
    }
   ],
   "source": [
    "driver=webdriver.Chrome(PATH)\n",
    "driver.get(url)"
   ]
  },
  {
   "cell_type": "code",
   "execution_count": null,
   "id": "b0e6fcfa",
   "metadata": {},
   "outputs": [],
   "source": [
    "#titulo de 2000-2009 "
   ]
  },
  {
   "cell_type": "code",
   "execution_count": 120,
   "id": "a2fec84a",
   "metadata": {},
   "outputs": [
    {
     "data": {
      "text/plain": [
       "<selenium.webdriver.remote.webelement.WebElement (session=\"cd039a3f589327c616078aa6e65442d9\", element=\"36d6c5bb-c20c-4011-8708-d33a7e2f0297\")>"
      ]
     },
     "execution_count": 120,
     "metadata": {},
     "output_type": "execute_result"
    }
   ],
   "source": [
    "titulos_00_09= driver.find_element(By.XPATH, '//*[@id=\"mw-content-text\"]/div[1]/table[8]/thead')\n",
    "titulos_00_09"
   ]
  },
  {
   "cell_type": "code",
   "execution_count": 123,
   "id": "beb0d952",
   "metadata": {},
   "outputs": [
    {
     "data": {
      "text/plain": [
       "['País', 'Fecha', 'Incidente', 'Detalles']"
      ]
     },
     "execution_count": 123,
     "metadata": {},
     "output_type": "execute_result"
    }
   ],
   "source": [
    "titular = []\n",
    "\n",
    "titulitos = titulos_00_09.find_elements(By.TAG_NAME, 'th')\n",
    "\n",
    "\n",
    "for i in range(len(titulitos)):\n",
    "    contenido= titulitos[i].text\n",
    "    titular.append(contenido)\n",
    "    \n",
    "titular"
   ]
  },
  {
   "cell_type": "code",
   "execution_count": null,
   "id": "b60907ef",
   "metadata": {},
   "outputs": [],
   "source": [
    "#datos en tabla 2000-2009"
   ]
  },
  {
   "cell_type": "code",
   "execution_count": 128,
   "id": "7860f714",
   "metadata": {},
   "outputs": [],
   "source": [
    "tabla = driver.find_element(By.XPATH,'//*[@id=\"mw-content-text\"]/div[1]/table[8]/tbody')\n",
    "\n",
    "filas = tabla.find_elements(By.TAG_NAME, 'tr')\n",
    "\n",
    "data=[]\n",
    "\n",
    "for fila in filas:\n",
    "    elementos = fila.find_elements(By.TAG_NAME,'td')\n",
    "    t = []\n",
    "    for e in elementos:\n",
    "        t.append(e.text)\n",
    "    data.append(t)"
   ]
  },
  {
   "cell_type": "code",
   "execution_count": 199,
   "id": "bdd1a333",
   "metadata": {
    "scrolled": true
   },
   "outputs": [],
   "source": [
    "tabla_00_09=pd.DataFrame(data, columns=titular)"
   ]
  },
  {
   "cell_type": "code",
   "execution_count": 194,
   "id": "77c2f9a2",
   "metadata": {},
   "outputs": [],
   "source": [
    "aux = tabla_00_09.T\n",
    "aux\n",
    "\n",
    "len(tabla_00_09.index)\n",
    "\n",
    "for num in range(len(tabla_00_09.index)):\n",
    "    aux[num][1] = aux[num][1][:4]\n",
    "aux = aux.T"
   ]
  },
  {
   "cell_type": "code",
   "execution_count": 197,
   "id": "1db33632",
   "metadata": {},
   "outputs": [
    {
     "data": {
      "text/html": [
       "<div>\n",
       "<style scoped>\n",
       "    .dataframe tbody tr th:only-of-type {\n",
       "        vertical-align: middle;\n",
       "    }\n",
       "\n",
       "    .dataframe tbody tr th {\n",
       "        vertical-align: top;\n",
       "    }\n",
       "\n",
       "    .dataframe thead th {\n",
       "        text-align: right;\n",
       "    }\n",
       "</style>\n",
       "<table border=\"1\" class=\"dataframe\">\n",
       "  <thead>\n",
       "    <tr style=\"text-align: right;\">\n",
       "      <th></th>\n",
       "      <th>País</th>\n",
       "      <th>Fecha</th>\n",
       "      <th>Incidente</th>\n",
       "      <th>Detalles</th>\n",
       "    </tr>\n",
       "  </thead>\n",
       "  <tbody>\n",
       "    <tr>\n",
       "      <th>0</th>\n",
       "      <td>Alemania</td>\n",
       "      <td>2000</td>\n",
       "      <td>Asesinatos neonazis en Alemania de 2000-2007</td>\n",
       "      <td>Los llamados Asesinatos del Bósforo, fueron un...</td>\n",
       "    </tr>\n",
       "    <tr>\n",
       "      <th>1</th>\n",
       "      <td>Indonesia</td>\n",
       "      <td>2000</td>\n",
       "      <td>Atentado a la Bolsa de Valores de Yakarta</td>\n",
       "      <td>Un coche bomba estalló en el sótano del edific...</td>\n",
       "    </tr>\n",
       "    <tr>\n",
       "      <th>2</th>\n",
       "      <td>Yemen  Estados Unidos</td>\n",
       "      <td>2000</td>\n",
       "      <td>Atentado contra el USS Cole</td>\n",
       "      <td>Un atentado suicida perpetrado por una célula ...</td>\n",
       "    </tr>\n",
       "    <tr>\n",
       "      <th>3</th>\n",
       "      <td>España</td>\n",
       "      <td>2001</td>\n",
       "      <td>Atentado de Rosas de 2001</td>\n",
       "      <td>Un coche bomba explota en un hotel turístico d...</td>\n",
       "    </tr>\n",
       "    <tr>\n",
       "      <th>4</th>\n",
       "      <td>Estados Unidos</td>\n",
       "      <td>2001</td>\n",
       "      <td>Atentados del 11 de septiembre de 2001</td>\n",
       "      <td>Atentados en las Torres Gemelas (en Nueva York...</td>\n",
       "    </tr>\n",
       "  </tbody>\n",
       "</table>\n",
       "</div>"
      ],
      "text/plain": [
       "                     País Fecha                                     Incidente  \\\n",
       "0                Alemania  2000  Asesinatos neonazis en Alemania de 2000-2007   \n",
       "1               Indonesia  2000     Atentado a la Bolsa de Valores de Yakarta   \n",
       "2   Yemen  Estados Unidos  2000                   Atentado contra el USS Cole   \n",
       "3                  España  2001                     Atentado de Rosas de 2001   \n",
       "4          Estados Unidos  2001        Atentados del 11 de septiembre de 2001   \n",
       "\n",
       "                                            Detalles  \n",
       "0  Los llamados Asesinatos del Bósforo, fueron un...  \n",
       "1  Un coche bomba estalló en el sótano del edific...  \n",
       "2  Un atentado suicida perpetrado por una célula ...  \n",
       "3  Un coche bomba explota en un hotel turístico d...  \n",
       "4  Atentados en las Torres Gemelas (en Nueva York...  "
      ]
     },
     "execution_count": 197,
     "metadata": {},
     "output_type": "execute_result"
    }
   ],
   "source": [
    "aux.head(5)                                                    "
   ]
  },
  {
   "cell_type": "code",
   "execution_count": 200,
   "id": "abd14442",
   "metadata": {},
   "outputs": [
    {
     "data": {
      "text/plain": [
       "(60, 4)"
      ]
     },
     "execution_count": 200,
     "metadata": {},
     "output_type": "execute_result"
    }
   ],
   "source": [
    "aux.shape"
   ]
  },
  {
   "cell_type": "code",
   "execution_count": 203,
   "id": "c8071ad5",
   "metadata": {},
   "outputs": [
    {
     "data": {
      "text/plain": [
       "Index(['País', 'Fecha', 'Incidente', 'Detalles'], dtype='object')"
      ]
     },
     "execution_count": 203,
     "metadata": {},
     "output_type": "execute_result"
    }
   ],
   "source": [
    "aux.columns"
   ]
  },
  {
   "cell_type": "code",
   "execution_count": 215,
   "id": "9aafada9",
   "metadata": {},
   "outputs": [],
   "source": [
    "aux.set_axis(['País', 'Year','Incidente', 'Detalles',], axis='columns', inplace=True)\n"
   ]
  },
  {
   "cell_type": "code",
   "execution_count": 216,
   "id": "ac25a3d0",
   "metadata": {},
   "outputs": [
    {
     "data": {
      "text/html": [
       "<div>\n",
       "<style scoped>\n",
       "    .dataframe tbody tr th:only-of-type {\n",
       "        vertical-align: middle;\n",
       "    }\n",
       "\n",
       "    .dataframe tbody tr th {\n",
       "        vertical-align: top;\n",
       "    }\n",
       "\n",
       "    .dataframe thead th {\n",
       "        text-align: right;\n",
       "    }\n",
       "</style>\n",
       "<table border=\"1\" class=\"dataframe\">\n",
       "  <thead>\n",
       "    <tr style=\"text-align: right;\">\n",
       "      <th></th>\n",
       "      <th>País</th>\n",
       "      <th>Year</th>\n",
       "      <th>Incidente</th>\n",
       "      <th>Detalles</th>\n",
       "    </tr>\n",
       "  </thead>\n",
       "  <tbody>\n",
       "    <tr>\n",
       "      <th>0</th>\n",
       "      <td>Alemania</td>\n",
       "      <td>2000</td>\n",
       "      <td>Asesinatos neonazis en Alemania de 2000-2007</td>\n",
       "      <td>Los llamados Asesinatos del Bósforo, fueron un...</td>\n",
       "    </tr>\n",
       "    <tr>\n",
       "      <th>1</th>\n",
       "      <td>Indonesia</td>\n",
       "      <td>2000</td>\n",
       "      <td>Atentado a la Bolsa de Valores de Yakarta</td>\n",
       "      <td>Un coche bomba estalló en el sótano del edific...</td>\n",
       "    </tr>\n",
       "    <tr>\n",
       "      <th>2</th>\n",
       "      <td>Yemen  Estados Unidos</td>\n",
       "      <td>2000</td>\n",
       "      <td>Atentado contra el USS Cole</td>\n",
       "      <td>Un atentado suicida perpetrado por una célula ...</td>\n",
       "    </tr>\n",
       "    <tr>\n",
       "      <th>3</th>\n",
       "      <td>España</td>\n",
       "      <td>2001</td>\n",
       "      <td>Atentado de Rosas de 2001</td>\n",
       "      <td>Un coche bomba explota en un hotel turístico d...</td>\n",
       "    </tr>\n",
       "    <tr>\n",
       "      <th>4</th>\n",
       "      <td>Estados Unidos</td>\n",
       "      <td>2001</td>\n",
       "      <td>Atentados del 11 de septiembre de 2001</td>\n",
       "      <td>Atentados en las Torres Gemelas (en Nueva York...</td>\n",
       "    </tr>\n",
       "  </tbody>\n",
       "</table>\n",
       "</div>"
      ],
      "text/plain": [
       "                     País  Year                                     Incidente  \\\n",
       "0                Alemania  2000  Asesinatos neonazis en Alemania de 2000-2007   \n",
       "1               Indonesia  2000     Atentado a la Bolsa de Valores de Yakarta   \n",
       "2   Yemen  Estados Unidos  2000                   Atentado contra el USS Cole   \n",
       "3                  España  2001                     Atentado de Rosas de 2001   \n",
       "4          Estados Unidos  2001        Atentados del 11 de septiembre de 2001   \n",
       "\n",
       "                                            Detalles  \n",
       "0  Los llamados Asesinatos del Bósforo, fueron un...  \n",
       "1  Un coche bomba estalló en el sótano del edific...  \n",
       "2  Un atentado suicida perpetrado por una célula ...  \n",
       "3  Un coche bomba explota en un hotel turístico d...  \n",
       "4  Atentados en las Torres Gemelas (en Nueva York...  "
      ]
     },
     "execution_count": 216,
     "metadata": {},
     "output_type": "execute_result"
    }
   ],
   "source": [
    "aux.head()"
   ]
  },
  {
   "cell_type": "code",
   "execution_count": 218,
   "id": "9e347199",
   "metadata": {},
   "outputs": [],
   "source": [
    "tabla_2000_2009= aux"
   ]
  },
  {
   "cell_type": "code",
   "execution_count": 221,
   "id": "d9157cbc",
   "metadata": {},
   "outputs": [],
   "source": [
    "tabla_2000_2009.to_csv('attacks_00_09.csv', index = False)\n"
   ]
  },
  {
   "cell_type": "code",
   "execution_count": null,
   "id": "348feb6f",
   "metadata": {},
   "outputs": [],
   "source": []
  },
  {
   "cell_type": "code",
   "execution_count": null,
   "id": "6a1fbf63",
   "metadata": {},
   "outputs": [],
   "source": [
    "#'''''''''''''''''''''''''''''''''''''''''''''''''''''''''''''''''''''''''''''''''''''''''''''''''''''''''''''#"
   ]
  },
  {
   "cell_type": "code",
   "execution_count": null,
   "id": "6fb19a92",
   "metadata": {},
   "outputs": [],
   "source": [
    "#tabla 2010-2019 \n"
   ]
  },
  {
   "cell_type": "code",
   "execution_count": null,
   "id": "b5a8ab85",
   "metadata": {},
   "outputs": [],
   "source": [
    "#titulos 2010-2019 "
   ]
  },
  {
   "cell_type": "code",
   "execution_count": 130,
   "id": "5d985bf7",
   "metadata": {},
   "outputs": [
    {
     "data": {
      "text/plain": [
       "<selenium.webdriver.remote.webelement.WebElement (session=\"cd039a3f589327c616078aa6e65442d9\", element=\"76d60e84-49af-41c1-a0dc-e8fc1b8397e8\")>"
      ]
     },
     "execution_count": 130,
     "metadata": {},
     "output_type": "execute_result"
    }
   ],
   "source": [
    "titulos_10_19= driver.find_element(By.XPATH, '//*[@id=\"mw-content-text\"]/div[1]/table[9]/thead')\n",
    "titulos_10_19"
   ]
  },
  {
   "cell_type": "code",
   "execution_count": 131,
   "id": "054e09b5",
   "metadata": {},
   "outputs": [
    {
     "data": {
      "text/plain": [
       "['País', 'Fecha', 'Incidente', 'Detalles']"
      ]
     },
     "execution_count": 131,
     "metadata": {},
     "output_type": "execute_result"
    }
   ],
   "source": [
    "titular_2 = []\n",
    "\n",
    "titulitos_2 = titulos_10_19.find_elements(By.TAG_NAME, 'th')\n",
    "\n",
    "\n",
    "for i in range(len(titulitos_2)):\n",
    "    contenido_2= titulitos_2[i].text\n",
    "    titular_2.append(contenido_2)\n",
    "    \n",
    "titular_2"
   ]
  },
  {
   "cell_type": "code",
   "execution_count": null,
   "id": "0418231a",
   "metadata": {},
   "outputs": [],
   "source": [
    "#datos en tabla 2010-2019"
   ]
  },
  {
   "cell_type": "code",
   "execution_count": 138,
   "id": "da87f106",
   "metadata": {},
   "outputs": [],
   "source": [
    "tabla_2 = driver.find_element(By.XPATH,'//*[@id=\"mw-content-text\"]/div[1]/table[9]/tbody')\n",
    "\n",
    "filas_2 = tabla_2.find_elements(By.TAG_NAME, 'tr')\n",
    "\n",
    "data_2=[]\n",
    "\n",
    "for fila in filas_2:\n",
    "    elementos_2 = fila.find_elements(By.TAG_NAME,'td')\n",
    "    t_2 = []\n",
    "    for e in elementos_2:\n",
    "        t_2.append(e.text)\n",
    "    data_2.append(t_2)"
   ]
  },
  {
   "cell_type": "code",
   "execution_count": 168,
   "id": "cfde7d3a",
   "metadata": {},
   "outputs": [
    {
     "data": {
      "text/html": [
       "<div>\n",
       "<style scoped>\n",
       "    .dataframe tbody tr th:only-of-type {\n",
       "        vertical-align: middle;\n",
       "    }\n",
       "\n",
       "    .dataframe tbody tr th {\n",
       "        vertical-align: top;\n",
       "    }\n",
       "\n",
       "    .dataframe thead th {\n",
       "        text-align: right;\n",
       "    }\n",
       "</style>\n",
       "<table border=\"1\" class=\"dataframe\">\n",
       "  <thead>\n",
       "    <tr style=\"text-align: right;\">\n",
       "      <th></th>\n",
       "      <th>País</th>\n",
       "      <th>Fecha</th>\n",
       "      <th>Incidente</th>\n",
       "      <th>Detalles</th>\n",
       "    </tr>\n",
       "  </thead>\n",
       "  <tbody>\n",
       "    <tr>\n",
       "      <th>0</th>\n",
       "      <td>Togo  República del Congo  Angola</td>\n",
       "      <td>2010, 8 de enero</td>\n",
       "      <td>Ataque a la Selección de fútbol de Togo</td>\n",
       "      <td>Ataque terrorista en contra del bus de la Sele...</td>\n",
       "    </tr>\n",
       "    <tr>\n",
       "      <th>1</th>\n",
       "      <td>Estados Unidos</td>\n",
       "      <td>2010, 18 de febrero</td>\n",
       "      <td>Atentado aéreo en Austin de 2010</td>\n",
       "      <td>Por motivos personales Joseph Andrew Stack est...</td>\n",
       "    </tr>\n",
       "    <tr>\n",
       "      <th>2</th>\n",
       "      <td>Rusia</td>\n",
       "      <td>2010, 29 de marzo</td>\n",
       "      <td>Atentados del metro de Moscú de 2010</td>\n",
       "      <td>Dos ataques terroristas suicidas con bombas qu...</td>\n",
       "    </tr>\n",
       "    <tr>\n",
       "      <th>3</th>\n",
       "      <td>Estados Unidos</td>\n",
       "      <td>2010, 1 de mayo</td>\n",
       "      <td>Atentado fallido de Times Square de 2010</td>\n",
       "      <td>Un fallido coche bomba fue desmantelado por el...</td>\n",
       "    </tr>\n",
       "    <tr>\n",
       "      <th>4</th>\n",
       "      <td>Uganda</td>\n",
       "      <td>2010, 11 de julio</td>\n",
       "      <td>Atentados de Kampala de 2010</td>\n",
       "      <td>Tres explosiones en un restaurante de Kampala ...</td>\n",
       "    </tr>\n",
       "    <tr>\n",
       "      <th>...</th>\n",
       "      <td>...</td>\n",
       "      <td>...</td>\n",
       "      <td>...</td>\n",
       "      <td>...</td>\n",
       "    </tr>\n",
       "    <tr>\n",
       "      <th>233</th>\n",
       "      <td>México</td>\n",
       "      <td>2019, 4 de noviembre</td>\n",
       "      <td>Masacre de la familia LeBaron</td>\n",
       "      <td>Ocurrió el 4 de noviembre de 2019 cuando presu...</td>\n",
       "    </tr>\n",
       "    <tr>\n",
       "      <th>234</th>\n",
       "      <td>Jordania</td>\n",
       "      <td>2019, 6 de noviembre</td>\n",
       "      <td>Atentado en Jerash</td>\n",
       "      <td>Un hombre armado hirió a 8 personas en un ataq...</td>\n",
       "    </tr>\n",
       "    <tr>\n",
       "      <th>235</th>\n",
       "      <td>Reino Unido</td>\n",
       "      <td>2019, 29 de noviembre</td>\n",
       "      <td>Atentado de Londres de 2019</td>\n",
       "      <td>Un ataque con cuchillo en el London Bridge dej...</td>\n",
       "    </tr>\n",
       "    <tr>\n",
       "      <th>236</th>\n",
       "      <td>Estados Unidos</td>\n",
       "      <td>2019, 10 de diciembre</td>\n",
       "      <td>Tiroteo de Jersey City de 2019</td>\n",
       "      <td>Dos hombres armados producen un tiroteo masivo...</td>\n",
       "    </tr>\n",
       "    <tr>\n",
       "      <th>237</th>\n",
       "      <td>Somalia</td>\n",
       "      <td>2019, 28 de diciembre</td>\n",
       "      <td>Atentado de Mogadiscio de 2019</td>\n",
       "      <td>Un atentado suicida con un camión bomba en un ...</td>\n",
       "    </tr>\n",
       "  </tbody>\n",
       "</table>\n",
       "<p>238 rows × 4 columns</p>\n",
       "</div>"
      ],
      "text/plain": [
       "                                   País                  Fecha  \\\n",
       "0     Togo  República del Congo  Angola       2010, 8 de enero   \n",
       "1                        Estados Unidos    2010, 18 de febrero   \n",
       "2                                 Rusia      2010, 29 de marzo   \n",
       "3                        Estados Unidos        2010, 1 de mayo   \n",
       "4                                Uganda      2010, 11 de julio   \n",
       "..                                  ...                    ...   \n",
       "233                              México   2019, 4 de noviembre   \n",
       "234                            Jordania   2019, 6 de noviembre   \n",
       "235                         Reino Unido  2019, 29 de noviembre   \n",
       "236                      Estados Unidos  2019, 10 de diciembre   \n",
       "237                             Somalia  2019, 28 de diciembre   \n",
       "\n",
       "                                    Incidente  \\\n",
       "0     Ataque a la Selección de fútbol de Togo   \n",
       "1            Atentado aéreo en Austin de 2010   \n",
       "2        Atentados del metro de Moscú de 2010   \n",
       "3    Atentado fallido de Times Square de 2010   \n",
       "4                Atentados de Kampala de 2010   \n",
       "..                                        ...   \n",
       "233             Masacre de la familia LeBaron   \n",
       "234                        Atentado en Jerash   \n",
       "235               Atentado de Londres de 2019   \n",
       "236            Tiroteo de Jersey City de 2019   \n",
       "237            Atentado de Mogadiscio de 2019   \n",
       "\n",
       "                                              Detalles  \n",
       "0    Ataque terrorista en contra del bus de la Sele...  \n",
       "1    Por motivos personales Joseph Andrew Stack est...  \n",
       "2    Dos ataques terroristas suicidas con bombas qu...  \n",
       "3    Un fallido coche bomba fue desmantelado por el...  \n",
       "4    Tres explosiones en un restaurante de Kampala ...  \n",
       "..                                                 ...  \n",
       "233  Ocurrió el 4 de noviembre de 2019 cuando presu...  \n",
       "234  Un hombre armado hirió a 8 personas en un ataq...  \n",
       "235  Un ataque con cuchillo en el London Bridge dej...  \n",
       "236  Dos hombres armados producen un tiroteo masivo...  \n",
       "237  Un atentado suicida con un camión bomba en un ...  \n",
       "\n",
       "[238 rows x 4 columns]"
      ]
     },
     "execution_count": 168,
     "metadata": {},
     "output_type": "execute_result"
    }
   ],
   "source": [
    "tabla_2=pd.DataFrame(data_2, columns=titular_2)\n",
    "\n",
    "tabla_2"
   ]
  },
  {
   "cell_type": "code",
   "execution_count": 169,
   "id": "37ffc2a8",
   "metadata": {},
   "outputs": [],
   "source": [
    "tabla_2[['Year', 'Day/ Month',' ', '']] = tabla_2['Fecha'].str.split(',', expand=True)\n"
   ]
  },
  {
   "cell_type": "code",
   "execution_count": 202,
   "id": "1df12671",
   "metadata": {},
   "outputs": [
    {
     "data": {
      "text/plain": [
       "Index(['País', 'Fecha', 'Incidente', 'Detalles', 'Year', 'Day/ Month', ' ',\n",
       "       ''],\n",
       "      dtype='object')"
      ]
     },
     "execution_count": 202,
     "metadata": {},
     "output_type": "execute_result"
    }
   ],
   "source": [
    "tabla_2.columns"
   ]
  },
  {
   "cell_type": "code",
   "execution_count": 206,
   "id": "ec1c5a08",
   "metadata": {},
   "outputs": [],
   "source": [
    "tabla_2.drop(['Fecha', 'Day/ Month', ' ', ''], axis=1, inplace=True)"
   ]
  },
  {
   "cell_type": "code",
   "execution_count": 207,
   "id": "48982c0a",
   "metadata": {},
   "outputs": [
    {
     "data": {
      "text/html": [
       "<div>\n",
       "<style scoped>\n",
       "    .dataframe tbody tr th:only-of-type {\n",
       "        vertical-align: middle;\n",
       "    }\n",
       "\n",
       "    .dataframe tbody tr th {\n",
       "        vertical-align: top;\n",
       "    }\n",
       "\n",
       "    .dataframe thead th {\n",
       "        text-align: right;\n",
       "    }\n",
       "</style>\n",
       "<table border=\"1\" class=\"dataframe\">\n",
       "  <thead>\n",
       "    <tr style=\"text-align: right;\">\n",
       "      <th></th>\n",
       "      <th>País</th>\n",
       "      <th>Incidente</th>\n",
       "      <th>Detalles</th>\n",
       "      <th>Year</th>\n",
       "    </tr>\n",
       "  </thead>\n",
       "  <tbody>\n",
       "    <tr>\n",
       "      <th>0</th>\n",
       "      <td>Togo  República del Congo  Angola</td>\n",
       "      <td>Ataque a la Selección de fútbol de Togo</td>\n",
       "      <td>Ataque terrorista en contra del bus de la Sele...</td>\n",
       "      <td>2010</td>\n",
       "    </tr>\n",
       "    <tr>\n",
       "      <th>1</th>\n",
       "      <td>Estados Unidos</td>\n",
       "      <td>Atentado aéreo en Austin de 2010</td>\n",
       "      <td>Por motivos personales Joseph Andrew Stack est...</td>\n",
       "      <td>2010</td>\n",
       "    </tr>\n",
       "    <tr>\n",
       "      <th>2</th>\n",
       "      <td>Rusia</td>\n",
       "      <td>Atentados del metro de Moscú de 2010</td>\n",
       "      <td>Dos ataques terroristas suicidas con bombas qu...</td>\n",
       "      <td>2010</td>\n",
       "    </tr>\n",
       "    <tr>\n",
       "      <th>3</th>\n",
       "      <td>Estados Unidos</td>\n",
       "      <td>Atentado fallido de Times Square de 2010</td>\n",
       "      <td>Un fallido coche bomba fue desmantelado por el...</td>\n",
       "      <td>2010</td>\n",
       "    </tr>\n",
       "    <tr>\n",
       "      <th>4</th>\n",
       "      <td>Uganda</td>\n",
       "      <td>Atentados de Kampala de 2010</td>\n",
       "      <td>Tres explosiones en un restaurante de Kampala ...</td>\n",
       "      <td>2010</td>\n",
       "    </tr>\n",
       "    <tr>\n",
       "      <th>...</th>\n",
       "      <td>...</td>\n",
       "      <td>...</td>\n",
       "      <td>...</td>\n",
       "      <td>...</td>\n",
       "    </tr>\n",
       "    <tr>\n",
       "      <th>233</th>\n",
       "      <td>México</td>\n",
       "      <td>Masacre de la familia LeBaron</td>\n",
       "      <td>Ocurrió el 4 de noviembre de 2019 cuando presu...</td>\n",
       "      <td>2019</td>\n",
       "    </tr>\n",
       "    <tr>\n",
       "      <th>234</th>\n",
       "      <td>Jordania</td>\n",
       "      <td>Atentado en Jerash</td>\n",
       "      <td>Un hombre armado hirió a 8 personas en un ataq...</td>\n",
       "      <td>2019</td>\n",
       "    </tr>\n",
       "    <tr>\n",
       "      <th>235</th>\n",
       "      <td>Reino Unido</td>\n",
       "      <td>Atentado de Londres de 2019</td>\n",
       "      <td>Un ataque con cuchillo en el London Bridge dej...</td>\n",
       "      <td>2019</td>\n",
       "    </tr>\n",
       "    <tr>\n",
       "      <th>236</th>\n",
       "      <td>Estados Unidos</td>\n",
       "      <td>Tiroteo de Jersey City de 2019</td>\n",
       "      <td>Dos hombres armados producen un tiroteo masivo...</td>\n",
       "      <td>2019</td>\n",
       "    </tr>\n",
       "    <tr>\n",
       "      <th>237</th>\n",
       "      <td>Somalia</td>\n",
       "      <td>Atentado de Mogadiscio de 2019</td>\n",
       "      <td>Un atentado suicida con un camión bomba en un ...</td>\n",
       "      <td>2019</td>\n",
       "    </tr>\n",
       "  </tbody>\n",
       "</table>\n",
       "<p>238 rows × 4 columns</p>\n",
       "</div>"
      ],
      "text/plain": [
       "                                   País  \\\n",
       "0     Togo  República del Congo  Angola   \n",
       "1                        Estados Unidos   \n",
       "2                                 Rusia   \n",
       "3                        Estados Unidos   \n",
       "4                                Uganda   \n",
       "..                                  ...   \n",
       "233                              México   \n",
       "234                            Jordania   \n",
       "235                         Reino Unido   \n",
       "236                      Estados Unidos   \n",
       "237                             Somalia   \n",
       "\n",
       "                                    Incidente  \\\n",
       "0     Ataque a la Selección de fútbol de Togo   \n",
       "1            Atentado aéreo en Austin de 2010   \n",
       "2        Atentados del metro de Moscú de 2010   \n",
       "3    Atentado fallido de Times Square de 2010   \n",
       "4                Atentados de Kampala de 2010   \n",
       "..                                        ...   \n",
       "233             Masacre de la familia LeBaron   \n",
       "234                        Atentado en Jerash   \n",
       "235               Atentado de Londres de 2019   \n",
       "236            Tiroteo de Jersey City de 2019   \n",
       "237            Atentado de Mogadiscio de 2019   \n",
       "\n",
       "                                              Detalles  Year  \n",
       "0    Ataque terrorista en contra del bus de la Sele...  2010  \n",
       "1    Por motivos personales Joseph Andrew Stack est...  2010  \n",
       "2    Dos ataques terroristas suicidas con bombas qu...  2010  \n",
       "3    Un fallido coche bomba fue desmantelado por el...  2010  \n",
       "4    Tres explosiones en un restaurante de Kampala ...  2010  \n",
       "..                                                 ...   ...  \n",
       "233  Ocurrió el 4 de noviembre de 2019 cuando presu...  2019  \n",
       "234  Un hombre armado hirió a 8 personas en un ataq...  2019  \n",
       "235  Un ataque con cuchillo en el London Bridge dej...  2019  \n",
       "236  Dos hombres armados producen un tiroteo masivo...  2019  \n",
       "237  Un atentado suicida con un camión bomba en un ...  2019  \n",
       "\n",
       "[238 rows x 4 columns]"
      ]
     },
     "execution_count": 207,
     "metadata": {},
     "output_type": "execute_result"
    }
   ],
   "source": [
    "tabla_2"
   ]
  },
  {
   "cell_type": "code",
   "execution_count": 213,
   "id": "aa290a4d",
   "metadata": {
    "scrolled": true
   },
   "outputs": [
    {
     "data": {
      "text/html": [
       "<div>\n",
       "<style scoped>\n",
       "    .dataframe tbody tr th:only-of-type {\n",
       "        vertical-align: middle;\n",
       "    }\n",
       "\n",
       "    .dataframe tbody tr th {\n",
       "        vertical-align: top;\n",
       "    }\n",
       "\n",
       "    .dataframe thead th {\n",
       "        text-align: right;\n",
       "    }\n",
       "</style>\n",
       "<table border=\"1\" class=\"dataframe\">\n",
       "  <thead>\n",
       "    <tr style=\"text-align: right;\">\n",
       "      <th></th>\n",
       "      <th>País</th>\n",
       "      <th>Year</th>\n",
       "      <th>Incidente</th>\n",
       "      <th>Detalles</th>\n",
       "    </tr>\n",
       "  </thead>\n",
       "  <tbody>\n",
       "    <tr>\n",
       "      <th>0</th>\n",
       "      <td>Togo  República del Congo  Angola</td>\n",
       "      <td>2010</td>\n",
       "      <td>Ataque a la Selección de fútbol de Togo</td>\n",
       "      <td>Ataque terrorista en contra del bus de la Sele...</td>\n",
       "    </tr>\n",
       "    <tr>\n",
       "      <th>1</th>\n",
       "      <td>Estados Unidos</td>\n",
       "      <td>2010</td>\n",
       "      <td>Atentado aéreo en Austin de 2010</td>\n",
       "      <td>Por motivos personales Joseph Andrew Stack est...</td>\n",
       "    </tr>\n",
       "    <tr>\n",
       "      <th>2</th>\n",
       "      <td>Rusia</td>\n",
       "      <td>2010</td>\n",
       "      <td>Atentados del metro de Moscú de 2010</td>\n",
       "      <td>Dos ataques terroristas suicidas con bombas qu...</td>\n",
       "    </tr>\n",
       "    <tr>\n",
       "      <th>3</th>\n",
       "      <td>Estados Unidos</td>\n",
       "      <td>2010</td>\n",
       "      <td>Atentado fallido de Times Square de 2010</td>\n",
       "      <td>Un fallido coche bomba fue desmantelado por el...</td>\n",
       "    </tr>\n",
       "    <tr>\n",
       "      <th>4</th>\n",
       "      <td>Uganda</td>\n",
       "      <td>2010</td>\n",
       "      <td>Atentados de Kampala de 2010</td>\n",
       "      <td>Tres explosiones en un restaurante de Kampala ...</td>\n",
       "    </tr>\n",
       "    <tr>\n",
       "      <th>...</th>\n",
       "      <td>...</td>\n",
       "      <td>...</td>\n",
       "      <td>...</td>\n",
       "      <td>...</td>\n",
       "    </tr>\n",
       "    <tr>\n",
       "      <th>233</th>\n",
       "      <td>México</td>\n",
       "      <td>2019</td>\n",
       "      <td>Masacre de la familia LeBaron</td>\n",
       "      <td>Ocurrió el 4 de noviembre de 2019 cuando presu...</td>\n",
       "    </tr>\n",
       "    <tr>\n",
       "      <th>234</th>\n",
       "      <td>Jordania</td>\n",
       "      <td>2019</td>\n",
       "      <td>Atentado en Jerash</td>\n",
       "      <td>Un hombre armado hirió a 8 personas en un ataq...</td>\n",
       "    </tr>\n",
       "    <tr>\n",
       "      <th>235</th>\n",
       "      <td>Reino Unido</td>\n",
       "      <td>2019</td>\n",
       "      <td>Atentado de Londres de 2019</td>\n",
       "      <td>Un ataque con cuchillo en el London Bridge dej...</td>\n",
       "    </tr>\n",
       "    <tr>\n",
       "      <th>236</th>\n",
       "      <td>Estados Unidos</td>\n",
       "      <td>2019</td>\n",
       "      <td>Tiroteo de Jersey City de 2019</td>\n",
       "      <td>Dos hombres armados producen un tiroteo masivo...</td>\n",
       "    </tr>\n",
       "    <tr>\n",
       "      <th>237</th>\n",
       "      <td>Somalia</td>\n",
       "      <td>2019</td>\n",
       "      <td>Atentado de Mogadiscio de 2019</td>\n",
       "      <td>Un atentado suicida con un camión bomba en un ...</td>\n",
       "    </tr>\n",
       "  </tbody>\n",
       "</table>\n",
       "<p>238 rows × 4 columns</p>\n",
       "</div>"
      ],
      "text/plain": [
       "                                   País  Year  \\\n",
       "0     Togo  República del Congo  Angola  2010   \n",
       "1                        Estados Unidos  2010   \n",
       "2                                 Rusia  2010   \n",
       "3                        Estados Unidos  2010   \n",
       "4                                Uganda  2010   \n",
       "..                                  ...   ...   \n",
       "233                              México  2019   \n",
       "234                            Jordania  2019   \n",
       "235                         Reino Unido  2019   \n",
       "236                      Estados Unidos  2019   \n",
       "237                             Somalia  2019   \n",
       "\n",
       "                                    Incidente  \\\n",
       "0     Ataque a la Selección de fútbol de Togo   \n",
       "1            Atentado aéreo en Austin de 2010   \n",
       "2        Atentados del metro de Moscú de 2010   \n",
       "3    Atentado fallido de Times Square de 2010   \n",
       "4                Atentados de Kampala de 2010   \n",
       "..                                        ...   \n",
       "233             Masacre de la familia LeBaron   \n",
       "234                        Atentado en Jerash   \n",
       "235               Atentado de Londres de 2019   \n",
       "236            Tiroteo de Jersey City de 2019   \n",
       "237            Atentado de Mogadiscio de 2019   \n",
       "\n",
       "                                              Detalles  \n",
       "0    Ataque terrorista en contra del bus de la Sele...  \n",
       "1    Por motivos personales Joseph Andrew Stack est...  \n",
       "2    Dos ataques terroristas suicidas con bombas qu...  \n",
       "3    Un fallido coche bomba fue desmantelado por el...  \n",
       "4    Tres explosiones en un restaurante de Kampala ...  \n",
       "..                                                 ...  \n",
       "233  Ocurrió el 4 de noviembre de 2019 cuando presu...  \n",
       "234  Un hombre armado hirió a 8 personas en un ataq...  \n",
       "235  Un ataque con cuchillo en el London Bridge dej...  \n",
       "236  Dos hombres armados producen un tiroteo masivo...  \n",
       "237  Un atentado suicida con un camión bomba en un ...  \n",
       "\n",
       "[238 rows x 4 columns]"
      ]
     },
     "execution_count": 213,
     "metadata": {},
     "output_type": "execute_result"
    }
   ],
   "source": [
    "tabla_2 = tabla_2[['País', 'Year', 'Incidente', 'Detalles']]"
   ]
  },
  {
   "cell_type": "code",
   "execution_count": 220,
   "id": "90ee3726",
   "metadata": {},
   "outputs": [
    {
     "data": {
      "text/html": [
       "<div>\n",
       "<style scoped>\n",
       "    .dataframe tbody tr th:only-of-type {\n",
       "        vertical-align: middle;\n",
       "    }\n",
       "\n",
       "    .dataframe tbody tr th {\n",
       "        vertical-align: top;\n",
       "    }\n",
       "\n",
       "    .dataframe thead th {\n",
       "        text-align: right;\n",
       "    }\n",
       "</style>\n",
       "<table border=\"1\" class=\"dataframe\">\n",
       "  <thead>\n",
       "    <tr style=\"text-align: right;\">\n",
       "      <th></th>\n",
       "      <th>País</th>\n",
       "      <th>Year</th>\n",
       "      <th>Incidente</th>\n",
       "      <th>Detalles</th>\n",
       "    </tr>\n",
       "  </thead>\n",
       "  <tbody>\n",
       "    <tr>\n",
       "      <th>0</th>\n",
       "      <td>Togo  República del Congo  Angola</td>\n",
       "      <td>2010</td>\n",
       "      <td>Ataque a la Selección de fútbol de Togo</td>\n",
       "      <td>Ataque terrorista en contra del bus de la Sele...</td>\n",
       "    </tr>\n",
       "    <tr>\n",
       "      <th>1</th>\n",
       "      <td>Estados Unidos</td>\n",
       "      <td>2010</td>\n",
       "      <td>Atentado aéreo en Austin de 2010</td>\n",
       "      <td>Por motivos personales Joseph Andrew Stack est...</td>\n",
       "    </tr>\n",
       "    <tr>\n",
       "      <th>2</th>\n",
       "      <td>Rusia</td>\n",
       "      <td>2010</td>\n",
       "      <td>Atentados del metro de Moscú de 2010</td>\n",
       "      <td>Dos ataques terroristas suicidas con bombas qu...</td>\n",
       "    </tr>\n",
       "    <tr>\n",
       "      <th>3</th>\n",
       "      <td>Estados Unidos</td>\n",
       "      <td>2010</td>\n",
       "      <td>Atentado fallido de Times Square de 2010</td>\n",
       "      <td>Un fallido coche bomba fue desmantelado por el...</td>\n",
       "    </tr>\n",
       "    <tr>\n",
       "      <th>4</th>\n",
       "      <td>Uganda</td>\n",
       "      <td>2010</td>\n",
       "      <td>Atentados de Kampala de 2010</td>\n",
       "      <td>Tres explosiones en un restaurante de Kampala ...</td>\n",
       "    </tr>\n",
       "    <tr>\n",
       "      <th>...</th>\n",
       "      <td>...</td>\n",
       "      <td>...</td>\n",
       "      <td>...</td>\n",
       "      <td>...</td>\n",
       "    </tr>\n",
       "    <tr>\n",
       "      <th>233</th>\n",
       "      <td>México</td>\n",
       "      <td>2019</td>\n",
       "      <td>Masacre de la familia LeBaron</td>\n",
       "      <td>Ocurrió el 4 de noviembre de 2019 cuando presu...</td>\n",
       "    </tr>\n",
       "    <tr>\n",
       "      <th>234</th>\n",
       "      <td>Jordania</td>\n",
       "      <td>2019</td>\n",
       "      <td>Atentado en Jerash</td>\n",
       "      <td>Un hombre armado hirió a 8 personas en un ataq...</td>\n",
       "    </tr>\n",
       "    <tr>\n",
       "      <th>235</th>\n",
       "      <td>Reino Unido</td>\n",
       "      <td>2019</td>\n",
       "      <td>Atentado de Londres de 2019</td>\n",
       "      <td>Un ataque con cuchillo en el London Bridge dej...</td>\n",
       "    </tr>\n",
       "    <tr>\n",
       "      <th>236</th>\n",
       "      <td>Estados Unidos</td>\n",
       "      <td>2019</td>\n",
       "      <td>Tiroteo de Jersey City de 2019</td>\n",
       "      <td>Dos hombres armados producen un tiroteo masivo...</td>\n",
       "    </tr>\n",
       "    <tr>\n",
       "      <th>237</th>\n",
       "      <td>Somalia</td>\n",
       "      <td>2019</td>\n",
       "      <td>Atentado de Mogadiscio de 2019</td>\n",
       "      <td>Un atentado suicida con un camión bomba en un ...</td>\n",
       "    </tr>\n",
       "  </tbody>\n",
       "</table>\n",
       "<p>238 rows × 4 columns</p>\n",
       "</div>"
      ],
      "text/plain": [
       "                                   País  Year  \\\n",
       "0     Togo  República del Congo  Angola  2010   \n",
       "1                        Estados Unidos  2010   \n",
       "2                                 Rusia  2010   \n",
       "3                        Estados Unidos  2010   \n",
       "4                                Uganda  2010   \n",
       "..                                  ...   ...   \n",
       "233                              México  2019   \n",
       "234                            Jordania  2019   \n",
       "235                         Reino Unido  2019   \n",
       "236                      Estados Unidos  2019   \n",
       "237                             Somalia  2019   \n",
       "\n",
       "                                    Incidente  \\\n",
       "0     Ataque a la Selección de fútbol de Togo   \n",
       "1            Atentado aéreo en Austin de 2010   \n",
       "2        Atentados del metro de Moscú de 2010   \n",
       "3    Atentado fallido de Times Square de 2010   \n",
       "4                Atentados de Kampala de 2010   \n",
       "..                                        ...   \n",
       "233             Masacre de la familia LeBaron   \n",
       "234                        Atentado en Jerash   \n",
       "235               Atentado de Londres de 2019   \n",
       "236            Tiroteo de Jersey City de 2019   \n",
       "237            Atentado de Mogadiscio de 2019   \n",
       "\n",
       "                                              Detalles  \n",
       "0    Ataque terrorista en contra del bus de la Sele...  \n",
       "1    Por motivos personales Joseph Andrew Stack est...  \n",
       "2    Dos ataques terroristas suicidas con bombas qu...  \n",
       "3    Un fallido coche bomba fue desmantelado por el...  \n",
       "4    Tres explosiones en un restaurante de Kampala ...  \n",
       "..                                                 ...  \n",
       "233  Ocurrió el 4 de noviembre de 2019 cuando presu...  \n",
       "234  Un hombre armado hirió a 8 personas en un ataq...  \n",
       "235  Un ataque con cuchillo en el London Bridge dej...  \n",
       "236  Dos hombres armados producen un tiroteo masivo...  \n",
       "237  Un atentado suicida con un camión bomba en un ...  \n",
       "\n",
       "[238 rows x 4 columns]"
      ]
     },
     "execution_count": 220,
     "metadata": {},
     "output_type": "execute_result"
    }
   ],
   "source": [
    "tabla_2"
   ]
  },
  {
   "cell_type": "code",
   "execution_count": 222,
   "id": "93b05f78",
   "metadata": {},
   "outputs": [],
   "source": [
    "tabla_2.to_csv('attacks_10_19.csv', index = False)\n"
   ]
  },
  {
   "cell_type": "code",
   "execution_count": null,
   "id": "74d37acb",
   "metadata": {},
   "outputs": [],
   "source": []
  },
  {
   "cell_type": "code",
   "execution_count": null,
   "id": "4b0b4f70",
   "metadata": {},
   "outputs": [],
   "source": []
  },
  {
   "cell_type": "code",
   "execution_count": null,
   "id": "387fcd8f",
   "metadata": {},
   "outputs": [],
   "source": []
  }
 ],
 "metadata": {
  "kernelspec": {
   "display_name": "Python 3 (ipykernel)",
   "language": "python",
   "name": "python3"
  },
  "language_info": {
   "codemirror_mode": {
    "name": "ipython",
    "version": 3
   },
   "file_extension": ".py",
   "mimetype": "text/x-python",
   "name": "python",
   "nbconvert_exporter": "python",
   "pygments_lexer": "ipython3",
   "version": "3.9.12"
  }
 },
 "nbformat": 4,
 "nbformat_minor": 5
}
